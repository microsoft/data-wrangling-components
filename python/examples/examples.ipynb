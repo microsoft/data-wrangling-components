{
 "cells": [
  {
   "cell_type": "code",
   "execution_count": 1,
   "metadata": {},
   "outputs": [],
   "source": [
    "from data_wrangling_components.pipeline import DefaultPipeline\n",
    "import data_wrangling_components.types as types"
   ]
  },
  {
   "cell_type": "markdown",
   "metadata": {},
   "source": [
    "## Aggregated Lookup\n",
    "\n",
    "\n",
    "\n",
    "### Load files into the table store"
   ]
  },
  {
   "cell_type": "code",
   "execution_count": 2,
   "metadata": {},
   "outputs": [],
   "source": [
    "aggregated_lookup = DefaultPipeline()\n",
    "\n",
    "aggregated_lookup.add_dataset('companies', path='../data/companies.csv')\n",
    "aggregated_lookup.add_dataset('products', path='../data/products.csv')"
   ]
  },
  {
   "cell_type": "markdown",
   "metadata": {},
   "source": [
    "### Create steps"
   ]
  },
  {
   "cell_type": "code",
   "execution_count": 3,
   "metadata": {},
   "outputs": [],
   "source": [
    "aggregated_lookup.add(\n",
    "    types.Step(\n",
    "        types.Verb.Join,\n",
    "        \"companies\",\n",
    "        \"join-1\",\n",
    "        args={\"other\": \"products\", \"on\": [\"ID\"]},\n",
    "    )\n",
    ")\n",
    "\n",
    "aggregated_lookup.add(\n",
    "    types.Step(\n",
    "        types.Verb.Filter,\n",
    "        \"join-1\",\n",
    "        \"filter-1\",\n",
    "        args={\n",
    "            \"to\": \"\",\n",
    "            \"column\": \"FY21 Sales\",\n",
    "            \"operator\": types.NumericComparisonOperator.Gte,\n",
    "            \"type\": types.FilterCompareType.Value,\n",
    "            \"value\": 10000,\n",
    "        },\n",
    "    )\n",
    ")\n",
    "\n",
    "aggregated_lookup.add(\n",
    "    types.Step(\n",
    "        types.Verb.Aggregate,\n",
    "        \"filter-1\",\n",
    "        \"aggregate-1\",\n",
    "        args={\n",
    "            \"to\": \"Total sales >= 10k\",\n",
    "            \"groupby\": \"ID\",\n",
    "            \"column\": \"FY21 Sales\",\n",
    "            \"operation\": types.FieldAggregateOperation.Sum,\n",
    "        },\n",
    "    )\n",
    ")\n",
    "\n",
    "aggregated_lookup.add(\n",
    "    types.Step(\n",
    "        types.Verb.Lookup,\n",
    "        \"companies\",\n",
    "        \"lookup-1\",\n",
    "        args={\"other\": \"aggregate-1\", \"on\": [\"ID\"], \"columns\": [\"Total sales >= 10k\"]},\n",
    "    )\n",
    ")"
   ]
  },
  {
   "cell_type": "markdown",
   "metadata": {},
   "source": [
    "### Run pipeline"
   ]
  },
  {
   "cell_type": "code",
   "execution_count": 4,
   "metadata": {},
   "outputs": [
    {
     "data": {
      "text/plain": [
       "TableContainer(id='lookup-1', name='lookup-1', table=   ID       Name  Employees     US  Total sales >= 10k\n",
       "0   1  Microsoft     160000   True             3206000\n",
       "1   2      Apple     150000   True             4180000\n",
       "2   3     Google     135000   True              660000\n",
       "3   4     Amazon    1250000   True               38000\n",
       "4   5    Samsung     270000  False              630000, metadata=None, context=None)"
      ]
     },
     "execution_count": 4,
     "metadata": {},
     "output_type": "execute_result"
    }
   ],
   "source": [
    "aggregated_lookup.run()"
   ]
  },
  {
   "cell_type": "code",
   "execution_count": 5,
   "metadata": {},
   "outputs": [
    {
     "data": {
      "text/plain": [
       "LazyTableStorage(container=TableContainer(id='filter-1', name='filter-1', table=    ID       Name  Employees     US         Product  FY20 Sales  FY21 Sales\n",
       "0    1  Microsoft     160000   True   Xbox Series X      9000.0       20000\n",
       "1    1  Microsoft     160000   True     Surface Pro     80000.0       85000\n",
       "2    1  Microsoft     160000   True    Surface Book      1300.0       11000\n",
       "3    1  Microsoft     160000   True         Windows   4000000.0     3000000\n",
       "4    1  Microsoft     160000   True           Azure     50000.0       90000\n",
       "5    2      Apple     150000   True       iPhone 13     90000.0      120000\n",
       "6    2      Apple     150000   True  MacBook Pro M1     89000.0       60000\n",
       "7    2      Apple     150000   True             iOS   5000000.0     4000000\n",
       "8    3     Google     135000   True           MacOS     30000.0       25000\n",
       "9    3     Google     135000   True         Android    800000.0      600000\n",
       "10   3     Google     135000   True     Google Maps     39000.0       35000\n",
       "11   4     Amazon    1250000   True           Gmail     38000.0       38000\n",
       "12   5    Samsung     270000  False          Galaxy    700000.0      600000\n",
       "13   5    Samsung     270000  False             NaN     23500.0       30000, metadata=None, context=None), resolver=None, resolved=True)"
      ]
     },
     "execution_count": 5,
     "metadata": {},
     "output_type": "execute_result"
    }
   ],
   "source": [
    "aggregated_lookup._store.get('filter-1')"
   ]
  },
  {
   "cell_type": "markdown",
   "metadata": {},
   "source": [
    "### Check Results"
   ]
  },
  {
   "cell_type": "code",
   "execution_count": 6,
   "metadata": {},
   "outputs": [
    {
     "name": "stdout",
     "output_type": "stream",
     "text": [
      "['companies', 'products', 'join-1', 'filter-1', 'aggregate-1', 'lookup-1']\n"
     ]
    },
    {
     "data": {
      "text/html": [
       "<div>\n",
       "<style scoped>\n",
       "    .dataframe tbody tr th:only-of-type {\n",
       "        vertical-align: middle;\n",
       "    }\n",
       "\n",
       "    .dataframe tbody tr th {\n",
       "        vertical-align: top;\n",
       "    }\n",
       "\n",
       "    .dataframe thead th {\n",
       "        text-align: right;\n",
       "    }\n",
       "</style>\n",
       "<table border=\"1\" class=\"dataframe\">\n",
       "  <thead>\n",
       "    <tr style=\"text-align: right;\">\n",
       "      <th></th>\n",
       "      <th>ID</th>\n",
       "      <th>Name</th>\n",
       "      <th>Employees</th>\n",
       "      <th>US</th>\n",
       "      <th>Total sales &gt;= 10k</th>\n",
       "    </tr>\n",
       "  </thead>\n",
       "  <tbody>\n",
       "    <tr>\n",
       "      <th>0</th>\n",
       "      <td>1</td>\n",
       "      <td>Microsoft</td>\n",
       "      <td>160000</td>\n",
       "      <td>True</td>\n",
       "      <td>3206000</td>\n",
       "    </tr>\n",
       "    <tr>\n",
       "      <th>1</th>\n",
       "      <td>2</td>\n",
       "      <td>Apple</td>\n",
       "      <td>150000</td>\n",
       "      <td>True</td>\n",
       "      <td>4180000</td>\n",
       "    </tr>\n",
       "    <tr>\n",
       "      <th>2</th>\n",
       "      <td>3</td>\n",
       "      <td>Google</td>\n",
       "      <td>135000</td>\n",
       "      <td>True</td>\n",
       "      <td>660000</td>\n",
       "    </tr>\n",
       "    <tr>\n",
       "      <th>3</th>\n",
       "      <td>4</td>\n",
       "      <td>Amazon</td>\n",
       "      <td>1250000</td>\n",
       "      <td>True</td>\n",
       "      <td>38000</td>\n",
       "    </tr>\n",
       "    <tr>\n",
       "      <th>4</th>\n",
       "      <td>5</td>\n",
       "      <td>Samsung</td>\n",
       "      <td>270000</td>\n",
       "      <td>False</td>\n",
       "      <td>630000</td>\n",
       "    </tr>\n",
       "  </tbody>\n",
       "</table>\n",
       "</div>"
      ],
      "text/plain": [
       "   ID       Name  Employees     US  Total sales >= 10k\n",
       "0   1  Microsoft     160000   True             3206000\n",
       "1   2      Apple     150000   True             4180000\n",
       "2   3     Google     135000   True              660000\n",
       "3   4     Amazon    1250000   True               38000\n",
       "4   5    Samsung     270000  False              630000"
      ]
     },
     "execution_count": 6,
     "metadata": {},
     "output_type": "execute_result"
    }
   ],
   "source": [
    "# List all results in the store:\n",
    "print(aggregated_lookup.list_store())\n",
    "\n",
    "# Check final result:\n",
    "lookup_final_result = aggregated_lookup.get_dataset('lookup-1')\n",
    "\n",
    "## You can save the output to a csv file with:\n",
    "# lookup_final_result.to_csv('name.csv')\n",
    "\n",
    "## You can check other intermediate results by using the store and providing\n",
    "## any name from the list above, for example: \n",
    "# aggregated_lookup_store.get('filter-1')\n",
    "\n",
    "# Preview table:\n",
    "lookup_final_result.head()"
   ]
  },
  {
   "cell_type": "markdown",
   "metadata": {},
   "source": [
    "## Reading from json spec"
   ]
  },
  {
   "cell_type": "code",
   "execution_count": 7,
   "metadata": {},
   "outputs": [],
   "source": [
    "import json\n",
    "\n",
    "with open('binning.json', 'r') as binning_spec:\n",
    "    pipeline_spec = json.loads(binning_spec.read())"
   ]
  },
  {
   "cell_type": "code",
   "execution_count": 8,
   "metadata": {},
   "outputs": [],
   "source": [
    "\n",
    "# Create pipeline\n",
    "binning_pipeline = DefaultPipeline.from_json(pipeline_spec['steps'])\n",
    "\n",
    "# Load inputs into store\n",
    "binning_pipeline.add_dataset('data/products.csv', path='../data/products.csv')"
   ]
  },
  {
   "cell_type": "code",
   "execution_count": 9,
   "metadata": {},
   "outputs": [
    {
     "data": {
      "text/plain": [
       "TableContainer(id='bin-5', name='bin-5', table=    ID         Product  FY20 Sales  FY21 Sales   Binned\n",
       "0    1        Xbox One     10000.0        9000    20000\n",
       "1    1   Xbox Series X      9000.0       20000    20000\n",
       "2    1     Surface Pro     80000.0       85000    20000\n",
       "3    1    Surface Book      1300.0       11000    20000\n",
       "4    1         Windows   4000000.0     3000000  1000000\n",
       "5    1           Azure     50000.0       90000    20000\n",
       "6    2       iPhone 13     90000.0      120000   120000\n",
       "7    2  Watch Series 7      2000.0        3000    20000\n",
       "8    2  MacBook Pro M1     89000.0       60000    20000\n",
       "9    2             iOS   5000000.0     4000000  1000000\n",
       "10   3           MacOS     30000.0       25000    20000\n",
       "11   3         Android    800000.0      600000   520000\n",
       "12   3          Stadia         NaN        8000    20000\n",
       "13   3     Google Maps     39000.0       35000    20000\n",
       "14   4           Gmail     38000.0       38000    20000\n",
       "15   5          Galaxy    700000.0      600000   520000\n",
       "16   5     Galaxy Note         3.0           1    20000\n",
       "17   5     Galaxy Flip       500.0         800    20000\n",
       "18   5             NaN     23500.0       30000    20000, metadata=None, context=None)"
      ]
     },
     "execution_count": 9,
     "metadata": {},
     "output_type": "execute_result"
    }
   ],
   "source": [
    "# Run pipeline\n",
    "binning_pipeline.run()\n"
   ]
  },
  {
   "cell_type": "code",
   "execution_count": 10,
   "metadata": {},
   "outputs": [
    {
     "data": {
      "text/html": [
       "<div>\n",
       "<style scoped>\n",
       "    .dataframe tbody tr th:only-of-type {\n",
       "        vertical-align: middle;\n",
       "    }\n",
       "\n",
       "    .dataframe tbody tr th {\n",
       "        vertical-align: top;\n",
       "    }\n",
       "\n",
       "    .dataframe thead th {\n",
       "        text-align: right;\n",
       "    }\n",
       "</style>\n",
       "<table border=\"1\" class=\"dataframe\">\n",
       "  <thead>\n",
       "    <tr style=\"text-align: right;\">\n",
       "      <th></th>\n",
       "      <th>ID</th>\n",
       "      <th>Product</th>\n",
       "      <th>FY20 Sales</th>\n",
       "      <th>FY21 Sales</th>\n",
       "      <th>Binned</th>\n",
       "    </tr>\n",
       "  </thead>\n",
       "  <tbody>\n",
       "    <tr>\n",
       "      <th>0</th>\n",
       "      <td>1</td>\n",
       "      <td>Xbox One</td>\n",
       "      <td>10000.0</td>\n",
       "      <td>9000</td>\n",
       "      <td>20000</td>\n",
       "    </tr>\n",
       "    <tr>\n",
       "      <th>1</th>\n",
       "      <td>1</td>\n",
       "      <td>Xbox Series X</td>\n",
       "      <td>9000.0</td>\n",
       "      <td>20000</td>\n",
       "      <td>20000</td>\n",
       "    </tr>\n",
       "    <tr>\n",
       "      <th>2</th>\n",
       "      <td>1</td>\n",
       "      <td>Surface Pro</td>\n",
       "      <td>80000.0</td>\n",
       "      <td>85000</td>\n",
       "      <td>20000</td>\n",
       "    </tr>\n",
       "    <tr>\n",
       "      <th>3</th>\n",
       "      <td>1</td>\n",
       "      <td>Surface Book</td>\n",
       "      <td>1300.0</td>\n",
       "      <td>11000</td>\n",
       "      <td>20000</td>\n",
       "    </tr>\n",
       "    <tr>\n",
       "      <th>4</th>\n",
       "      <td>1</td>\n",
       "      <td>Windows</td>\n",
       "      <td>4000000.0</td>\n",
       "      <td>3000000</td>\n",
       "      <td>1000000</td>\n",
       "    </tr>\n",
       "  </tbody>\n",
       "</table>\n",
       "</div>"
      ],
      "text/plain": [
       "   ID        Product  FY20 Sales  FY21 Sales   Binned\n",
       "0   1       Xbox One     10000.0        9000    20000\n",
       "1   1  Xbox Series X      9000.0       20000    20000\n",
       "2   1    Surface Pro     80000.0       85000    20000\n",
       "3   1   Surface Book      1300.0       11000    20000\n",
       "4   1        Windows   4000000.0     3000000  1000000"
      ]
     },
     "execution_count": 10,
     "metadata": {},
     "output_type": "execute_result"
    }
   ],
   "source": [
    "# Preview result in store\n",
    "binning_pipeline.get_dataset('bin-5').head()"
   ]
  },
  {
   "cell_type": "markdown",
   "metadata": {},
   "source": [
    "## Another Example"
   ]
  },
  {
   "cell_type": "code",
   "execution_count": 11,
   "metadata": {},
   "outputs": [],
   "source": [
    "import json\n",
    "\n",
    "with open('compound-filter-aggregate.json', 'r') as compound_spec:\n",
    "    pipeline_spec = json.loads(compound_spec.read())"
   ]
  },
  {
   "cell_type": "code",
   "execution_count": 12,
   "metadata": {},
   "outputs": [],
   "source": [
    "\n",
    "# Create pipeline\n",
    "compound_pipeline = DefaultPipeline.from_json(pipeline_spec['steps'])\n",
    "\n",
    "\n",
    "# Load inputs into store\n",
    "compound_pipeline.add_dataset('data/companies.csv', path='../data/companies.csv')\n",
    "compound_pipeline.add_dataset('data/products.csv', path='../data/products.csv')"
   ]
  },
  {
   "cell_type": "code",
   "execution_count": 13,
   "metadata": {},
   "outputs": [
    {
     "name": "stdout",
     "output_type": "stream",
     "text": [
      "['data/companies.csv', 'data/products.csv', 'filter-aggregate-lookup-final-output-table']\n"
     ]
    },
    {
     "data": {
      "text/html": [
       "<div>\n",
       "<style scoped>\n",
       "    .dataframe tbody tr th:only-of-type {\n",
       "        vertical-align: middle;\n",
       "    }\n",
       "\n",
       "    .dataframe tbody tr th {\n",
       "        vertical-align: top;\n",
       "    }\n",
       "\n",
       "    .dataframe thead th {\n",
       "        text-align: right;\n",
       "    }\n",
       "</style>\n",
       "<table border=\"1\" class=\"dataframe\">\n",
       "  <thead>\n",
       "    <tr style=\"text-align: right;\">\n",
       "      <th></th>\n",
       "      <th>ID</th>\n",
       "      <th>Name</th>\n",
       "      <th>Employees</th>\n",
       "      <th>US</th>\n",
       "      <th>Growth</th>\n",
       "    </tr>\n",
       "  </thead>\n",
       "  <tbody>\n",
       "    <tr>\n",
       "      <th>0</th>\n",
       "      <td>1</td>\n",
       "      <td>Microsoft</td>\n",
       "      <td>160000</td>\n",
       "      <td>True</td>\n",
       "      <td>4.0</td>\n",
       "    </tr>\n",
       "    <tr>\n",
       "      <th>1</th>\n",
       "      <td>2</td>\n",
       "      <td>Apple</td>\n",
       "      <td>150000</td>\n",
       "      <td>True</td>\n",
       "      <td>2.0</td>\n",
       "    </tr>\n",
       "    <tr>\n",
       "      <th>2</th>\n",
       "      <td>3</td>\n",
       "      <td>Google</td>\n",
       "      <td>135000</td>\n",
       "      <td>True</td>\n",
       "      <td>NaN</td>\n",
       "    </tr>\n",
       "    <tr>\n",
       "      <th>3</th>\n",
       "      <td>4</td>\n",
       "      <td>Amazon</td>\n",
       "      <td>1250000</td>\n",
       "      <td>True</td>\n",
       "      <td>NaN</td>\n",
       "    </tr>\n",
       "    <tr>\n",
       "      <th>4</th>\n",
       "      <td>5</td>\n",
       "      <td>Samsung</td>\n",
       "      <td>270000</td>\n",
       "      <td>False</td>\n",
       "      <td>2.0</td>\n",
       "    </tr>\n",
       "  </tbody>\n",
       "</table>\n",
       "</div>"
      ],
      "text/plain": [
       "   ID       Name  Employees     US  Growth\n",
       "0   1  Microsoft     160000   True     4.0\n",
       "1   2      Apple     150000   True     2.0\n",
       "2   3     Google     135000   True     NaN\n",
       "3   4     Amazon    1250000   True     NaN\n",
       "4   5    Samsung     270000  False     2.0"
      ]
     },
     "execution_count": 13,
     "metadata": {},
     "output_type": "execute_result"
    }
   ],
   "source": [
    "compound_pipeline.run()\n",
    "print(compound_pipeline.list_store())\n",
    "compound_pipeline.get_dataset('filter-aggregate-lookup-final-output-table').head()"
   ]
  },
  {
   "cell_type": "markdown",
   "metadata": {},
   "source": [
    "## Save pipeline Spec to Json\n",
    "\n",
    "Note: When saving a pipeline, you save the specification and not the store, so you need to create and load the inputs into the store and run the pipeline again to recreate the results"
   ]
  },
  {
   "cell_type": "code",
   "execution_count": 14,
   "metadata": {},
   "outputs": [],
   "source": [
    "aggregated_lookup.to_json('aggregate-lookup-save-test.json')"
   ]
  },
  {
   "cell_type": "code",
   "execution_count": 15,
   "metadata": {},
   "outputs": [
    {
     "data": {
      "text/plain": [
       "TableContainer(id='lookup-1', name='lookup-1', table=   ID       Name  Employees     US  Total sales >= 10k\n",
       "0   1  Microsoft     160000   True             3206000\n",
       "1   2      Apple     150000   True             4180000\n",
       "2   3     Google     135000   True              660000\n",
       "3   4     Amazon    1250000   True               38000\n",
       "4   5    Samsung     270000  False              630000, metadata=None, context=None)"
      ]
     },
     "execution_count": 15,
     "metadata": {},
     "output_type": "execute_result"
    }
   ],
   "source": [
    "import json\n",
    "\n",
    "with open('aggregate-lookup-save-test.json', 'r') as spec:\n",
    "    pipeline_spec = json.loads(spec.read())\n",
    "\n",
    "\n",
    "# Create pipeline\n",
    "pipeline = DefaultPipeline.from_json(pipeline_spec['steps'])\n",
    "\n",
    "pipeline.add_dataset('companies', path='../data/companies.csv')\n",
    "pipeline.add_dataset('products', path='../data/products.csv')\n",
    "\n",
    "# Run pipeline\n",
    "pipeline.run()"
   ]
  },
  {
   "cell_type": "code",
   "execution_count": 16,
   "metadata": {},
   "outputs": [
    {
     "data": {
      "text/html": [
       "<div>\n",
       "<style scoped>\n",
       "    .dataframe tbody tr th:only-of-type {\n",
       "        vertical-align: middle;\n",
       "    }\n",
       "\n",
       "    .dataframe tbody tr th {\n",
       "        vertical-align: top;\n",
       "    }\n",
       "\n",
       "    .dataframe thead th {\n",
       "        text-align: right;\n",
       "    }\n",
       "</style>\n",
       "<table border=\"1\" class=\"dataframe\">\n",
       "  <thead>\n",
       "    <tr style=\"text-align: right;\">\n",
       "      <th></th>\n",
       "      <th>ID</th>\n",
       "      <th>Name</th>\n",
       "      <th>Employees</th>\n",
       "      <th>US</th>\n",
       "      <th>Total sales &gt;= 10k</th>\n",
       "    </tr>\n",
       "  </thead>\n",
       "  <tbody>\n",
       "    <tr>\n",
       "      <th>0</th>\n",
       "      <td>1</td>\n",
       "      <td>Microsoft</td>\n",
       "      <td>160000</td>\n",
       "      <td>True</td>\n",
       "      <td>3206000</td>\n",
       "    </tr>\n",
       "    <tr>\n",
       "      <th>1</th>\n",
       "      <td>2</td>\n",
       "      <td>Apple</td>\n",
       "      <td>150000</td>\n",
       "      <td>True</td>\n",
       "      <td>4180000</td>\n",
       "    </tr>\n",
       "    <tr>\n",
       "      <th>2</th>\n",
       "      <td>3</td>\n",
       "      <td>Google</td>\n",
       "      <td>135000</td>\n",
       "      <td>True</td>\n",
       "      <td>660000</td>\n",
       "    </tr>\n",
       "    <tr>\n",
       "      <th>3</th>\n",
       "      <td>4</td>\n",
       "      <td>Amazon</td>\n",
       "      <td>1250000</td>\n",
       "      <td>True</td>\n",
       "      <td>38000</td>\n",
       "    </tr>\n",
       "    <tr>\n",
       "      <th>4</th>\n",
       "      <td>5</td>\n",
       "      <td>Samsung</td>\n",
       "      <td>270000</td>\n",
       "      <td>False</td>\n",
       "      <td>630000</td>\n",
       "    </tr>\n",
       "  </tbody>\n",
       "</table>\n",
       "</div>"
      ],
      "text/plain": [
       "   ID       Name  Employees     US  Total sales >= 10k\n",
       "0   1  Microsoft     160000   True             3206000\n",
       "1   2      Apple     150000   True             4180000\n",
       "2   3     Google     135000   True              660000\n",
       "3   4     Amazon    1250000   True               38000\n",
       "4   5    Samsung     270000  False              630000"
      ]
     },
     "execution_count": 16,
     "metadata": {},
     "output_type": "execute_result"
    }
   ],
   "source": [
    "lookup_1 = pipeline.get_dataset('lookup-1')\n",
    "lookup_1"
   ]
  },
  {
   "cell_type": "code",
   "execution_count": 17,
   "metadata": {},
   "outputs": [],
   "source": [
    "# Test result is the same from the first execution (original pipeline creation)\n",
    "from pandas.testing import assert_frame_equal\n",
    "\n",
    "assert_frame_equal(lookup_1, lookup_final_result)"
   ]
  },
  {
   "cell_type": "markdown",
   "metadata": {},
   "source": [
    "## Save store to a zip file"
   ]
  },
  {
   "cell_type": "code",
   "execution_count": 18,
   "metadata": {},
   "outputs": [],
   "source": [
    "pipeline.save_store('./test.zip')"
   ]
  },
  {
   "cell_type": "markdown",
   "metadata": {},
   "source": [
    "## Read store from zip file"
   ]
  },
  {
   "cell_type": "code",
   "execution_count": 19,
   "metadata": {},
   "outputs": [
    {
     "data": {
      "text/plain": [
       "['companies', 'products', 'join-1', 'filter-1', 'aggregate-1', 'lookup-1']"
      ]
     },
     "execution_count": 19,
     "metadata": {},
     "output_type": "execute_result"
    }
   ],
   "source": [
    "new_pipeline = DefaultPipeline()\n",
    "new_pipeline.load_store('./test.zip')\n",
    "new_pipeline.list_store()"
   ]
  }
 ],
 "metadata": {
  "interpreter": {
   "hash": "758b6b92d01e965de0fcdc23227af1b552e35ed5f2c925e19c1be49f0021618b"
  },
  "kernelspec": {
   "display_name": "Python 3.8.8 64-bit ('base': conda)",
   "language": "python",
   "name": "python3"
  },
  "language_info": {
   "codemirror_mode": {
    "name": "ipython",
    "version": 3
   },
   "file_extension": ".py",
   "mimetype": "text/x-python",
   "name": "python",
   "nbconvert_exporter": "python",
   "pygments_lexer": "ipython3",
   "version": "3.9.5"
  },
  "orig_nbformat": 4
 },
 "nbformat": 4,
 "nbformat_minor": 2
}
